{
 "cells": [
  {
   "cell_type": "code",
   "execution_count": 39,
   "id": "f37c2945",
   "metadata": {},
   "outputs": [],
   "source": [
    "import pandas as pd\n",
    "import numpy as np\n",
    "# CSV 불러오기\n",
    "ans1 = pd.read_csv('stacking_tabpfn_0.csv')\n",
    "ans2 = pd.read_csv('stacking_tabpfn_1.csv')\n",
    "ans3 = pd.read_csv('stacking_tabpfn_2.csv')\n",
    "ans4 = pd.read_csv('stacking_tabpfn_3.csv')\n",
    "ans5 = pd.read_csv('stacking_tabpfn_4.csv')\n",
    "ans6 = pd.read_csv('bytype_pfn.csv')\n",
    "ans7 = pd.read_csv('autogluon.csv')\n",
    "ans8 = pd.read_csv('pfn_stacking.csv')\n",
    "\n",
    "pfn_5seed = (ans1['answer'] + ans2['answer'] + ans3['answer'] + ans4['answer'] + ans5['answer']) / 5\n",
    "\n",
    "# 조합식\n",
    "final_answer = (0.9* (0.5* pfn_5seed + 0.5 * (0.75* ans8['answer'] + 0.25* ans7['answer'])) +    0.1* ans6['answer'])\n",
    "\n",
    "submission = ans1.copy()\n",
    "submission['answer'] = np.round(final_answer,2) \n",
    "submission\n",
    "submission.to_csv('final_submission.csv', index=False)\n"
   ]
  }
 ],
 "metadata": {
  "kernelspec": {
   "display_name": "autogluon (3.12.3)",
   "language": "python",
   "name": "python3"
  },
  "language_info": {
   "codemirror_mode": {
    "name": "ipython",
    "version": 3
   },
   "file_extension": ".py",
   "mimetype": "text/x-python",
   "name": "python",
   "nbconvert_exporter": "python",
   "pygments_lexer": "ipython3",
   "version": "3.12.3"
  }
 },
 "nbformat": 4,
 "nbformat_minor": 5
}
