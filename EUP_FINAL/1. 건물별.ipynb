{
 "cells": [
  {
   "cell_type": "markdown",
   "id": "a18e5538-7ef8-4632-9872-ce154ea88a7d",
   "metadata": {},
   "source": [
    "# Stacking"
   ]
  },
  {
   "cell_type": "code",
   "execution_count": 1,
   "id": "a29b15a3-b274-4262-b5c6-7d0c528cdadb",
   "metadata": {},
   "outputs": [
    {
     "data": {
      "text/plain": [
       "'stacking_tabpfn'"
      ]
     },
     "execution_count": 1,
     "metadata": {},
     "output_type": "execute_result"
    }
   ],
   "source": [
    "import os\n",
    "import random\n",
    "import numpy as np\n",
    "import pandas as pd\n",
    "import matplotlib.pyplot as plt\n",
    "import seaborn as sns\n",
    "\n",
    "from sklearn.model_selection import TimeSeriesSplit\n",
    "from sklearn.model_selection import KFold, StratifiedKFold, GroupKFold\n",
    "from sklearn.preprocessing import LabelEncoder, OneHotEncoder, TargetEncoder\n",
    "from sklearn.preprocessing import StandardScaler, MinMaxScaler, RobustScaler\n",
    "from sklearn.linear_model import LinearRegression, Ridge, Lasso, ElasticNet\n",
    "from tabpfn import TabPFNRegressor\n",
    "import datetime\n",
    "from tqdm import tqdm\n",
    "import warnings\n",
    "warnings.filterwarnings('ignore')\n",
    "import argparse\n",
    "parser = argparse.ArgumentParser(description=\"stacking_tabpfn\")\n",
    "parser.add_argument('--scaler', default=\"standard\", type=str) \n",
    "parser.add_argument('--cv', default=10, type=int)\n",
    "parser.add_argument('--seed', default=4, type=int)\n",
    "args = parser.parse_args('')\n",
    "\n",
    "scaler = args.scaler\n",
    "cv = args.cv\n",
    "seed = args.seed\n",
    "if scaler == \"standard\":\n",
    "    scaler = StandardScaler()\n",
    "elif scaler == \"minmax\":\n",
    "    scaler = MinMaxScaler()\n",
    "elif scaler == \"robust\":\n",
    "    scaler = RobustScaler()\n",
    "\n",
    "def set_seeds(seed=seed):\n",
    "    os.environ['PYTHONHASHSEED'] = str(seed)\n",
    "    random.seed(seed)\n",
    "    np.random.seed(seed)\n",
    "\n",
    "set_seeds()\n",
    "idx = f\"{parser.description}\"\n",
    "idx"
   ]
  },
  {
   "cell_type": "markdown",
   "id": "470b63ff-47b1-4373-9747-9f7f7209edba",
   "metadata": {
    "id": "NtyRVbHzXKNv"
   },
   "source": [
    "## Preprocessing"
   ]
  },
  {
   "cell_type": "code",
   "execution_count": 2,
   "id": "8a5f9fb3-96a2-4eae-a1e4-eb4b1329fe1d",
   "metadata": {},
   "outputs": [
    {
     "data": {
      "text/plain": [
       "Index(['temperature', 'rainfall', 'windspeed', 'humidity', 'day', 'month',\n",
       "       'is_weekend', 'weekday', 'holiday', 'temperature_squared',\n",
       "       'humidity_squared', 'summer_cos', 'summer_sin', 'sin_hour', 'cos_hour',\n",
       "       'sin_doy', 'cos_doy', 'CDH', 'CDD', 'THI', 'WCT', 'avg_temp',\n",
       "       'max_temp', 'min_temp', 'temp_diff', 'avg_humid', 'max_humid',\n",
       "       'min_humid', 'humid_diff', 'dow_hour_mean', 'dow_hour_std',\n",
       "       'holiday_mean', 'holiday_std', 'hour_mean', 'hour_std',\n",
       "       'month_hour_mean', 'month_hour_std', 'power_week_slope6h', '건물번호', '일시',\n",
       "       '전력소비량(kWh)'],\n",
       "      dtype='object')"
      ]
     },
     "execution_count": 2,
     "metadata": {},
     "output_type": "execute_result"
    }
   ],
   "source": [
    "KI_train = pd.read_csv('./data/x_full_trainV2.csv')\n",
    "KI_test = pd.read_csv('./data/x_testV2.csv')\n",
    "\n",
    "KI_train['건물번호'] = KI_train['building_number']\n",
    "KI_test['건물번호'] = KI_test['building_number']\n",
    "\n",
    "KI_train['일시'] = KI_train['date_time']\n",
    "KI_test['일시'] = KI_test['date_time']\n",
    "\n",
    "KI_train['일시'] = pd.to_datetime(KI_train['일시'], format='%Y-%m-%d %H:%M:%S')\n",
    "KI_test['일시'] = pd.to_datetime(KI_test['일시'], format='%Y-%m-%d %H:%M:%S')\n",
    "\n",
    "KI_train['전력소비량(kWh)'] = KI_train['power_consumption']\n",
    "\n",
    "drop_columns = ['building_type', 'total_area', 'cooling_area', 'date']\n",
    "\n",
    "KI_train = KI_train.drop(drop_columns, axis=1)\n",
    "KI_test = KI_test.drop(drop_columns, axis=1)\n",
    "\n",
    "train = KI_train.drop(['building_number', 'date_time', 'power_consumption'], axis=1)\n",
    "test = KI_test.drop(['building_number', 'date_time', 'power_consumption'], axis=1)\n",
    "\n",
    "train.columns"
   ]
  },
  {
   "cell_type": "markdown",
   "id": "2311a04b-d752-48e2-a21b-66e5429df54e",
   "metadata": {},
   "source": [
    "## Modelling"
   ]
  },
  {
   "cell_type": "code",
   "execution_count": 3,
   "id": "0fddc74a-df63-47b0-834c-0fa0cc4286d3",
   "metadata": {},
   "outputs": [],
   "source": [
    "tabpfn = TabPFNRegressor(random_state=seed, n_jobs=-1)\n",
    "def get_stacking_ml_datasets(model, X_train_n, y_train_n, X_test_n, n_folds, fitting=True):\n",
    "    \n",
    "    kf = KFold(n_splits=n_folds, shuffle=True, random_state=seed)\n",
    "    \n",
    "    train_fold_pred = np.zeros((X_train_n.shape[0], 1))\n",
    "    test_pred = np.zeros((X_test_n.shape[0], n_folds))\n",
    "    \n",
    "    for folder_counter, (train_index, valid_index) in enumerate(kf.split(X_train_n, y_train_n)):\n",
    "        X_tr = X_train_n[train_index]\n",
    "        y_tr = y_train_n[train_index]\n",
    "        X_te = X_train_n[valid_index]\n",
    "\n",
    "        if fitting == True:\n",
    "            model.fit(X_tr, y_tr)\n",
    "            \n",
    "        train_fold_pred[valid_index, :] = model.predict(X_te).reshape(-1,1)\n",
    "        test_pred[:, folder_counter] = model.predict(X_test_n)\n",
    "        \n",
    "    test_pred_mean = np.mean(test_pred, axis=1).reshape(-1,1)    \n",
    "    \n",
    "    return train_fold_pred, test_pred_mean"
   ]
  },
  {
   "cell_type": "markdown",
   "id": "44c81859-cf58-412c-90cc-2272fba5c7df",
   "metadata": {},
   "source": [
    "### Metrics"
   ]
  },
  {
   "cell_type": "code",
   "execution_count": 4,
   "id": "55ddb877-e11b-4643-8d9a-ae616cc54674",
   "metadata": {},
   "outputs": [],
   "source": [
    "def smape(y_true, y_pred):\n",
    "    y_true = np.array(y_true)\n",
    "    y_pred = np.array(y_pred)\n",
    "    score = 2 * np.abs(y_pred - y_true) / (np.abs(y_pred) + np.abs(y_true))\n",
    "    score = np.mean(score) * 100\n",
    "    return score"
   ]
  },
  {
   "cell_type": "markdown",
   "id": "48d56f17-a4d3-4447-b277-953f6585f60f",
   "metadata": {},
   "source": [
    "## Training"
   ]
  },
  {
   "cell_type": "code",
   "execution_count": 5,
   "id": "407c63be-cd1e-47ce-bd20-eb75a5228f9d",
   "metadata": {},
   "outputs": [],
   "source": [
    "best_ml = [tabpfn]"
   ]
  },
  {
   "cell_type": "code",
   "execution_count": 6,
   "id": "0f62f63f-a61a-49c2-ba9f-1df83fcf26f2",
   "metadata": {},
   "outputs": [
    {
     "name": "stderr",
     "output_type": "stream",
     "text": [
      "100%|██████████| 100/100 [45:55<00:00, 27.55s/it]\n"
     ]
    },
    {
     "data": {
      "text/plain": [
       "(16800,)"
      ]
     },
     "execution_count": 6,
     "metadata": {},
     "output_type": "execute_result"
    }
   ],
   "source": [
    "preds_total = []\n",
    "for b_num in tqdm(train['건물번호'].unique()):\n",
    "    \n",
    "    train_df = train[train[\"건물번호\"]==b_num]\n",
    "    test_df = test[test[\"건물번호\"]==b_num]\n",
    "\n",
    "    X_train = train_df.drop(['건물번호', '일시', '전력소비량(kWh)'], axis=1)\n",
    "    y_train = train_df['전력소비량(kWh)'].values\n",
    "\n",
    "    X_test = test_df.drop(['건물번호', '일시'], axis=1)\n",
    "\n",
    "    X_train = scaler.fit_transform(X_train)\n",
    "    X_test = scaler.transform(X_test)\n",
    "\n",
    "    meta_X_train=[]\n",
    "    meta_X_test=[]\n",
    "    \n",
    "    for idx, estimator in enumerate(best_ml):\n",
    "        \n",
    "        temp_X_train, temp_X_test = get_stacking_ml_datasets(\n",
    "            estimator, X_train, y_train, X_test, cv\n",
    "        )\n",
    "        \n",
    "        meta_X_train.append(temp_X_train)\n",
    "        meta_X_test.append(temp_X_test)\n",
    "        \n",
    "    meta_X_train = np.hstack(meta_X_train)\n",
    "    meta_X_test = np.hstack(meta_X_test)\n",
    "\n",
    "    meta_clf = LinearRegression()\n",
    "    meta_clf.fit(meta_X_train, y_train)\n",
    "    preds_partial = meta_clf.predict(meta_X_test)\n",
    "    \n",
    "    preds_total.append(preds_partial)\n",
    "\n",
    "prediction = np.hstack(preds_total)\n",
    "\n",
    "prediction.shape"
   ]
  },
  {
   "cell_type": "markdown",
   "id": "48d7a3de-245a-4c4b-86b1-eddf899f1786",
   "metadata": {},
   "source": [
    "### Submission"
   ]
  },
  {
   "cell_type": "code",
   "execution_count": 7,
   "id": "211fa06e-41bc-479d-972d-3dea5411e5da",
   "metadata": {},
   "outputs": [
    {
     "data": {
      "text/html": [
       "<div>\n",
       "<style scoped>\n",
       "    .dataframe tbody tr th:only-of-type {\n",
       "        vertical-align: middle;\n",
       "    }\n",
       "\n",
       "    .dataframe tbody tr th {\n",
       "        vertical-align: top;\n",
       "    }\n",
       "\n",
       "    .dataframe thead th {\n",
       "        text-align: right;\n",
       "    }\n",
       "</style>\n",
       "<table border=\"1\" class=\"dataframe\">\n",
       "  <thead>\n",
       "    <tr style=\"text-align: right;\">\n",
       "      <th></th>\n",
       "      <th>num_date_time</th>\n",
       "      <th>answer</th>\n",
       "    </tr>\n",
       "  </thead>\n",
       "  <tbody>\n",
       "    <tr>\n",
       "      <th>0</th>\n",
       "      <td>1_20240825 00</td>\n",
       "      <td>3937.53</td>\n",
       "    </tr>\n",
       "    <tr>\n",
       "      <th>1</th>\n",
       "      <td>1_20240825 01</td>\n",
       "      <td>3639.63</td>\n",
       "    </tr>\n",
       "    <tr>\n",
       "      <th>2</th>\n",
       "      <td>1_20240825 02</td>\n",
       "      <td>3511.07</td>\n",
       "    </tr>\n",
       "    <tr>\n",
       "      <th>3</th>\n",
       "      <td>1_20240825 03</td>\n",
       "      <td>3025.68</td>\n",
       "    </tr>\n",
       "    <tr>\n",
       "      <th>4</th>\n",
       "      <td>1_20240825 04</td>\n",
       "      <td>2754.15</td>\n",
       "    </tr>\n",
       "  </tbody>\n",
       "</table>\n",
       "</div>"
      ],
      "text/plain": [
       "   num_date_time   answer\n",
       "0  1_20240825 00  3937.53\n",
       "1  1_20240825 01  3639.63\n",
       "2  1_20240825 02  3511.07\n",
       "3  1_20240825 03  3025.68\n",
       "4  1_20240825 04  2754.15"
      ]
     },
     "execution_count": 7,
     "metadata": {},
     "output_type": "execute_result"
    }
   ],
   "source": [
    "submission = pd.read_csv('./data/sample_submission.csv')\n",
    "submission['answer'] = np.round(prediction, 2)\n",
    "submission.to_csv(f'{parser.description}_{args.seed}.csv', index=False)\n",
    "submission.head()"
   ]
  }
 ],
 "metadata": {
  "kernelspec": {
   "display_name": "tabpfn_env",
   "language": "python",
   "name": "python3"
  },
  "language_info": {
   "codemirror_mode": {
    "name": "ipython",
    "version": 3
   },
   "file_extension": ".py",
   "mimetype": "text/x-python",
   "name": "python",
   "nbconvert_exporter": "python",
   "pygments_lexer": "ipython3",
   "version": "3.10.18"
  }
 },
 "nbformat": 4,
 "nbformat_minor": 5
}
